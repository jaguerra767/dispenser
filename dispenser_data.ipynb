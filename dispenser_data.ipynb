{
 "cells": [
  {
   "cell_type": "markdown",
   "metadata": {},
   "source": [
    "Relevant Imports"
   ]
  },
  {
   "cell_type": "code",
   "execution_count": null,
   "metadata": {},
   "outputs": [],
   "source": [
    "from Phidget22.Phidget import *\n",
    "from Phidget22.Devices.VoltageRatioInput import *\n",
    "from tools import prune, dot_product\n",
    "import numpy as np\n",
    "import matplotlib.pyplot as plt\n",
    "import asyncio, time\n",
    "from Scale import Scale"
   ]
  },
  {
   "cell_type": "markdown",
   "metadata": {},
   "source": [
    "Initialize one load cell from each phidget"
   ]
  },
  {
   "cell_type": "code",
   "execution_count": null,
   "metadata": {},
   "outputs": [],
   "source": [
    "cell_10kg = VoltageRatioInput()\n",
    "cell_10kg.setDeviceSerialNumber(716692)\n",
    "cell_10kg.setChannel(0)\n",
    "cell_10kg.openWaitForAttachment(1000)\n",
    "cell_10kg.setDataInterval(cell_10kg.getMinDataInterval())\n",
    "\n",
    "cell_5kg = VoltageRatioInput()\n",
    "cell_10kg.setDeviceSerialNumber(716710)\n",
    "cell_10kg.setChannel(2)\n",
    "cell_10kg.openWaitForAttachment(1000)\n",
    "cell_10kg.setDataInterval(cell_10kg.getMinDataInterval())"
   ]
  },
  {
   "cell_type": "markdown",
   "metadata": {},
   "source": [
    "Define data collection function"
   ]
  },
  {
   "cell_type": "code",
   "execution_count": null,
   "metadata": {},
   "outputs": [],
   "source": [
    "def get_data(cell, samples=100, sample_rate=10):\n",
    "    data = []\n",
    "    for i in range(samples):\n",
    "        data += [cell.getVoltageRatio()]\n",
    "        time.sleep(1/sample_rate)\n",
    "    return data"
   ]
  },
  {
   "cell_type": "markdown",
   "metadata": {},
   "source": [
    "Collect data from each cell and plot"
   ]
  },
  {
   "cell_type": "code",
   "execution_count": null,
   "metadata": {},
   "outputs": [],
   "source": [
    "data_10kg = get_data(cell_10kg)\n",
    "data_5kg = get_data(cell_5kg)\n",
    "\n",
    "plt.close()\n",
    "plt.plot(data_10kg)\n",
    "plt.plot(data_5kg)\n",
    "plt.xlabel('Time')\n",
    "plt.ylabel('Voltage')\n",
    "plt.grid()\n",
    "plt.show()"
   ]
  }
 ],
 "metadata": {
  "language_info": {
   "name": "python"
  }
 },
 "nbformat": 4,
 "nbformat_minor": 2
}
