{
 "cells": [
  {
   "cell_type": "code",
   "execution_count": 1,
   "id": "ee36e4ff",
   "metadata": {},
   "outputs": [],
   "source": [
    "import scipy as sp\n",
    "import numpy as np\n",
    "import matplotlib.pyplot as plt"
   ]
  },
  {
   "cell_type": "code",
   "execution_count": 3,
   "id": "6abd230e",
   "metadata": {},
   "outputs": [],
   "source": [
    "t = np.linspace(0, 5, 1000)\n",
    "clean_signal = np.sin(2*np.pi*1*t) # 1 Hz\n",
    "noise = np.random.normal(0, 0.1, len(t))\n",
    "noisy_signal = clean_signal + noise"
   ]
  },
  {
   "cell_type": "code",
   "execution_count": 4,
   "id": "ef9c2c53",
   "metadata": {},
   "outputs": [],
   "source": [
    "cutoff = 0.5\n",
    "fs = 100\n",
    "RC = 1/(cutoff*2*np.pi)\n",
    "a = fs/(fs+RC)\n",
    "b = RC/(fs+RC)\n",
    "\n",
    "filtered_signal = [a*noisy_signal[i]+b*noisy_signal[i-1] for i in range(len(noisy_signal[1:]))]\n",
    "\n",
    "fig, axs = plt.subplots(3, 1, figsize=(8, 4))\n",
    "axs[0].plot(t, clean_signal, label='Clean Signal')\n",
    "axs[1].plot(t, noisy_signal, label='Noisy Signal')\n",
    "axs[0].plot(t, filtered_signal, label='Filtered Signal')"
   ]
  },
  {
   "cell_type": "code",
   "execution_count": null,
   "id": "1e887327",
   "metadata": {},
   "outputs": [],
   "source": []
  }
 ],
 "metadata": {
  "kernelspec": {
   "display_name": "Python 3 (ipykernel)",
   "language": "python",
   "name": "python3"
  },
  "language_info": {
   "codemirror_mode": {
    "name": "ipython",
    "version": 3
   },
   "file_extension": ".py",
   "mimetype": "text/x-python",
   "name": "python",
   "nbconvert_exporter": "python",
   "pygments_lexer": "ipython3",
   "version": "3.11.2"
  }
 },
 "nbformat": 4,
 "nbformat_minor": 5
}
